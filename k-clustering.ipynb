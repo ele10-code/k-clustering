{
 "cells": [
  {
   "cell_type": "markdown",
   "metadata": {},
   "source": [
    "# K Clustering on graphs. \n",
    "Si consideri un grafo G=(V,E) non completo. \n",
    "Ogni partizione di V in k sottoinsiemi V 1 ,..,V k , indice k sottografi G(V 1 ),..G(V k ). Si determini la partizione tale per cui il numero di archi i cui estremi appartengono a sottografi diversi (i.e., la dimensione del multi-cut) è minimo."
   ]
  },
  {
   "cell_type": "code",
   "execution_count": 173,
   "metadata": {},
   "outputs": [],
   "source": [
    "\n",
    "# librerie\n",
    "import networkx as nx\n",
    "import matplotlib.pyplot as plt\n",
    "from pulp import *\n",
    "import numpy as np\n",
    "import community\n",
    "import itertools\n",
    "import pprint\n",
    "\n",
    "from networkx.algorithms import approximation"
   ]
  },
  {
   "cell_type": "code",
   "execution_count": 2,
   "metadata": {},
   "outputs": [],
   "source": [
    "import graph\n",
    "from gurobipy import *\n",
    "\n",
    "def multi_cut_native(g):\n",
    "    \"\"\"return optimal multi_cut by solve an IP\"\"\"\n",
    "    vertices = g.vertices()\n",
    "    edges = g.edges()\n",
    "    weights = g.weights()\n",
    "\n",
    "    m = Model(\"muticut\")\n",
    "\n",
    "    # Create variables\n",
    "    cuts = {} \n",
    "    for e in edges:\n",
    "        e = frozenset(e)\n",
    "        cuts[e] = m.addVar(vtype = GRB.BINARY) # if we cut edge e\n",
    "\n",
    "    # Integrate new variables\n",
    "    m.update()\n",
    "\n",
    "    # Set objective\n",
    "    m.setObjective(sum(cuts[e]*weights[e] for e in edges), GRB.MINIMIZE) # minimize cut-cost\n",
    "\n",
    "    # Add constraints:\n",
    "    for s,t in g.sts():\n",
    "        for P in g.find_all_paths(s,t):\n",
    "            m.addConstr( sum([ cuts[frozenset([P[j],P[j+1]])] for j in range(len(P) - 1)] ) >= 1 )\n",
    "\n",
    "    # optimize it\n",
    "    m.optimize()\n",
    "\n",
    "    # # display results\n",
    "    # def printSolution():\n",
    "    #     print 'Problem size: |V| = ', n, ', |E|, = ', len(edges_weights) # size of our problem\n",
    "    #     if m.status == GRB.Status.OPTIMAL:\n",
    "    #         print('\\nCost: %g' % m.objVal)\n",
    "    #         #buyx = m.getAttr('x', buy)\n",
    "    #         #nutritionx = m.getAttr('x', nutrition)\n",
    "    #         print('\\nCut:')\n",
    "    #         for e in edges:\n",
    "    #             print(e, cuts[e].x)\n",
    "    #     else:\n",
    "    #         print('No solution')\n",
    "\n",
    "    # printSolution()\n",
    "    x = {}\n",
    "    for e in edges:\n",
    "        x[e] = cuts[e].x\n",
    "    return x"
   ]
  }
 ],
 "metadata": {
  "kernelspec": {
   "display_name": "Python 3",
   "language": "python",
   "name": "python3"
  },
  "language_info": {
   "codemirror_mode": {
    "name": "ipython",
    "version": 3
   },
   "file_extension": ".py",
   "mimetype": "text/x-python",
   "name": "python",
   "nbconvert_exporter": "python",
   "pygments_lexer": "ipython3",
   "version": "3.10.6"
  },
  "orig_nbformat": 4
 },
 "nbformat": 4,
 "nbformat_minor": 2
}
