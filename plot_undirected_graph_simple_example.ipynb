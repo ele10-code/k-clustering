{
  "cells": [
    {
      "cell_type": "code",
      "execution_count": 11,
      "metadata": {
        "collapsed": false
      },
      "outputs": [],
      "source": [
        "%matplotlib inline"
      ]
    },
    {
      "cell_type": "markdown",
      "metadata": {},
      "source": [
        "\n",
        "Undirected Graph: Simple Example\n",
        "=============================================\n",
        "\n",
        "Very simple example how to use undirected graphs\n",
        "\n",
        "\n"
      ]
    },
    {
      "cell_type": "code",
      "execution_count": 13,
      "metadata": {
        "collapsed": false
      },
      "outputs": [
        {
          "ename": "ModuleNotFoundError",
          "evalue": "No module named 'nifty.graph'",
          "output_type": "error",
          "traceback": [
            "\u001b[0;31m---------------------------------------------------------------------------\u001b[0m",
            "\u001b[0;31mModuleNotFoundError\u001b[0m                       Traceback (most recent call last)",
            "Cell \u001b[0;32mIn[13], line 2\u001b[0m\n\u001b[1;32m      1\u001b[0m \u001b[39mfrom\u001b[39;00m \u001b[39m__future__\u001b[39;00m \u001b[39mimport\u001b[39;00m print_function\n\u001b[0;32m----> 2\u001b[0m \u001b[39mimport\u001b[39;00m \u001b[39mnifty\u001b[39;00m\u001b[39m.\u001b[39;00m\u001b[39mgraph\u001b[39;00m\n\u001b[1;32m      3\u001b[0m \u001b[39mimport\u001b[39;00m \u001b[39mnumpy\u001b[39;00m\n\u001b[1;32m      4\u001b[0m \u001b[39mimport\u001b[39;00m \u001b[39mpylab\u001b[39;00m\n",
            "\u001b[0;31mModuleNotFoundError\u001b[0m: No module named 'nifty.graph'"
          ]
        }
      ],
      "source": [
        "from __future__ import print_function\n",
        "import nifty.graph\n",
        "import numpy\n",
        "import pylab"
      ]
    },
    {
      "cell_type": "markdown",
      "metadata": {},
      "source": [
        "2D undirected grid graph\n",
        "\n"
      ]
    },
    {
      "cell_type": "code",
      "execution_count": null,
      "metadata": {
        "collapsed": false
      },
      "outputs": [],
      "source": [
        "numberOfNodes = 5\n",
        "graph = nifty.graph.undirectedGraph(numberOfNodes)\n",
        "print(\"#nodes\", graph.numberOfNodes)\n",
        "print(\"#edges\", graph.numberOfEdges)\n",
        "print(graph)"
      ]
    },
    {
      "cell_type": "markdown",
      "metadata": {},
      "source": [
        "insert edges\n",
        "\n"
      ]
    },
    {
      "cell_type": "code",
      "execution_count": null,
      "metadata": {
        "collapsed": false
      },
      "outputs": [],
      "source": [
        "graph.insertEdge(0,1)\n",
        "graph.insertEdge(0,2)"
      ]
    },
    {
      "cell_type": "markdown",
      "metadata": {},
      "source": [
        "insert multiple edges at once\n",
        "\n"
      ]
    },
    {
      "cell_type": "code",
      "execution_count": null,
      "metadata": {
        "collapsed": false
      },
      "outputs": [],
      "source": [
        "uvIds = numpy.array([[0,3],[1,2],[1,4],[1,3],[3,4]])\n",
        "graph.insertEdges(uvIds)"
      ]
    },
    {
      "cell_type": "markdown",
      "metadata": {},
      "source": [
        "iterate over nodes\n",
        "and the adjacency\n",
        "of each node\n",
        "\n"
      ]
    },
    {
      "cell_type": "code",
      "execution_count": null,
      "metadata": {
        "collapsed": false
      },
      "outputs": [],
      "source": [
        "for node in graph.nodes():\n",
        "    print(\"u\",node)\n",
        "    for v,e in graph.nodeAdjacency(node):\n",
        "        print(\" v\",v,\"e\",e)"
      ]
    },
    {
      "cell_type": "markdown",
      "metadata": {},
      "source": [
        "iterate over edges\n",
        "and print the endpoints\n",
        "\n"
      ]
    },
    {
      "cell_type": "code",
      "execution_count": null,
      "metadata": {
        "collapsed": false
      },
      "outputs": [],
      "source": [
        "for edge in graph.edges():\n",
        "    print(\"edge \",edge, \"uv:\", graph.uv(edge))"
      ]
    },
    {
      "cell_type": "markdown",
      "metadata": {},
      "source": [
        "get the uv-ids /endpoints\n",
        "for all edges simultaneous\n",
        "as a numpy array\n",
        "\n"
      ]
    },
    {
      "cell_type": "code",
      "execution_count": null,
      "metadata": {
        "collapsed": false
      },
      "outputs": [],
      "source": [
        "uvIds = graph.uvIds()\n",
        "print(uvIds)"
      ]
    },
    {
      "cell_type": "markdown",
      "metadata": {},
      "source": [
        "plot the graph:\n",
        "needs networkx\n",
        "\n"
      ]
    },
    {
      "cell_type": "code",
      "execution_count": null,
      "metadata": {
        "collapsed": false
      },
      "outputs": [],
      "source": [
        "nifty.graph.drawGraph(graph)\n",
        "pylab.show()"
      ]
    }
  ],
  "metadata": {
    "kernelspec": {
      "display_name": "Python 3",
      "language": "python",
      "name": "python3"
    },
    "language_info": {
      "codemirror_mode": {
        "name": "ipython",
        "version": 3
      },
      "file_extension": ".py",
      "mimetype": "text/x-python",
      "name": "python",
      "nbconvert_exporter": "python",
      "pygments_lexer": "ipython3",
      "version": "3.10.6"
    }
  },
  "nbformat": 4,
  "nbformat_minor": 0
}
